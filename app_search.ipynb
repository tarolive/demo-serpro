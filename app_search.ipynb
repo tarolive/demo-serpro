{
 "cells": [
  {
   "cell_type": "code",
   "execution_count": null,
   "id": "752855fc-606a-4c97-af98-119994164f4e",
   "metadata": {
    "tags": []
   },
   "outputs": [],
   "source": [
    "!pip install --upgrade elasticsearch"
   ]
  },
  {
   "cell_type": "code",
   "execution_count": null,
   "id": "174e6672-b9df-478b-a707-a850f70549a3",
   "metadata": {
    "tags": []
   },
   "outputs": [],
   "source": [
    "from elasticsearch import Elasticsearch\n",
    "from urllib3       import disable_warnings"
   ]
  },
  {
   "cell_type": "code",
   "execution_count": null,
   "id": "557154ab-033f-4cb9-99e3-bcd5e43f5ba7",
   "metadata": {
    "tags": []
   },
   "outputs": [],
   "source": [
    "disable_warnings()"
   ]
  },
  {
   "cell_type": "code",
   "execution_count": null,
   "id": "72c7c722-f6fb-4efb-8d3c-8b54a674ded1",
   "metadata": {
    "tags": []
   },
   "outputs": [],
   "source": [
    "es_host     = '<elasticsearch_host>'\n",
    "es_username = '<elasticsearch_username>'\n",
    "es_password = '<elasticsearch_password>'\n",
    "es_index    = 'ecg'"
   ]
  },
  {
   "cell_type": "code",
   "execution_count": null,
   "id": "f828f573-9417-4cd6-b09b-f9356c3cd711",
   "metadata": {
    "tags": []
   },
   "outputs": [],
   "source": [
    "es = Elasticsearch(\n",
    "    hosts        = es_host,\n",
    "    basic_auth   = (es_username, es_password),\n",
    "    verify_certs = False\n",
    ")"
   ]
  },
  {
   "cell_type": "code",
   "execution_count": null,
   "id": "bee2d9f0-3d88-406a-afbf-94f0fbac19a5",
   "metadata": {
    "tags": []
   },
   "outputs": [],
   "source": [
    "es.info()"
   ]
  },
  {
   "cell_type": "code",
   "execution_count": null,
   "id": "0ac04304-03c5-454d-b039-fade64f5729e",
   "metadata": {
    "tags": []
   },
   "outputs": [],
   "source": [
    "def search(query, size = 10):\n",
    "\n",
    "    result = es.search(index = es_index, query = query, size = size)\n",
    "    result = result['hits']['hits']\n",
    "\n",
    "    print('Total : {}'.format(len(result)))\n",
    "\n",
    "    for item in result:\n",
    "\n",
    "        print('Id : {} | Severity : {}'.format(item['_id'], item['_source']['severity']))"
   ]
  },
  {
   "cell_type": "code",
   "execution_count": null,
   "id": "6d2c7b85-77ba-4c73-9883-c6756b8b5fc7",
   "metadata": {
    "tags": []
   },
   "outputs": [],
   "source": [
    "def search_severity(severity):\n",
    "\n",
    "    query = {\n",
    "        'bool' : {\n",
    "            'must' : {\n",
    "                'match' : {\n",
    "                    'severity' : severity\n",
    "                }\n",
    "            }\n",
    "        }\n",
    "    }\n",
    "\n",
    "    search(query)"
   ]
  },
  {
   "cell_type": "code",
   "execution_count": null,
   "id": "5dee401a-4dcd-4005-9f75-bfd1b38cb9a8",
   "metadata": {
    "tags": []
   },
   "outputs": [],
   "source": [
    "search_severity(0)"
   ]
  },
  {
   "cell_type": "code",
   "execution_count": null,
   "id": "cfc627b3-2a8e-4879-802a-26fe0ace665c",
   "metadata": {
    "tags": []
   },
   "outputs": [],
   "source": [
    "es.count(index = es_index)"
   ]
  },
  {
   "cell_type": "code",
   "execution_count": null,
   "id": "953a15d3-5875-455e-bdfe-bb96533212fc",
   "metadata": {
    "tags": []
   },
   "outputs": [],
   "source": [
    "es.indices.delete(index = es_index)"
   ]
  }
 ],
 "metadata": {
  "kernelspec": {
   "display_name": "Python 3.9",
   "language": "python",
   "name": "python3"
  },
  "language_info": {
   "codemirror_mode": {
    "name": "ipython",
    "version": 3
   },
   "file_extension": ".py",
   "mimetype": "text/x-python",
   "name": "python",
   "nbconvert_exporter": "python",
   "pygments_lexer": "ipython3",
   "version": "3.9.16"
  }
 },
 "nbformat": 4,
 "nbformat_minor": 5
}
