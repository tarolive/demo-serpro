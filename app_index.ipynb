{
 "cells": [
  {
   "cell_type": "code",
   "execution_count": null,
   "id": "b9af42af-76a6-4bd2-b3aa-b66bef551c8a",
   "metadata": {
    "tags": []
   },
   "outputs": [],
   "source": [
    "!pip install --upgrade elasticsearch matplotlib numpy pandas requests scikit-learn tensorflow urllib3"
   ]
  },
  {
   "cell_type": "code",
   "execution_count": null,
   "id": "98541f67-4619-4ed2-893a-e63639c540f6",
   "metadata": {
    "tags": []
   },
   "outputs": [],
   "source": [
    "import matplotlib.pyplot as plt\n",
    "import numpy             as np\n",
    "import pandas            as pd\n",
    "import tensorflow        as tf\n",
    "import time\n",
    "\n",
    "from elasticsearch           import Elasticsearch\n",
    "from urllib3                 import disable_warnings\n",
    "from sklearn.model_selection import train_test_split\n",
    "from sklearn.metrics         import accuracy_score, precision_score, recall_score"
   ]
  },
  {
   "cell_type": "code",
   "execution_count": null,
   "id": "cfe5f094-6c0f-45b3-8467-20893ef75bcc",
   "metadata": {
    "tags": []
   },
   "outputs": [],
   "source": [
    "disable_warnings()"
   ]
  },
  {
   "cell_type": "code",
   "execution_count": null,
   "id": "5aa76f95-01d0-4e2c-be01-afb0085b5e10",
   "metadata": {
    "tags": []
   },
   "outputs": [],
   "source": [
    "ecg_data = pd.read_csv('http://storage.googleapis.com/download.tensorflow.org/data/ecg.csv', header = None)\n",
    "ecg_data.head()"
   ]
  },
  {
   "cell_type": "code",
   "execution_count": null,
   "id": "5eb0eb22-3111-474c-8df7-ecfa492e9e61",
   "metadata": {
    "tags": []
   },
   "outputs": [],
   "source": [
    "data = ecg_data.values\n",
    "\n",
    "features = data[:, 0:-1]\n",
    "labels   = data[:, -1]\n",
    "\n",
    "features_train, features_test, labels_train, labels_test = train_test_split(features, labels, test_size = 0.2)"
   ]
  },
  {
   "cell_type": "code",
   "execution_count": null,
   "id": "d4e7044a-830b-4191-b4d3-e2613df7b5fc",
   "metadata": {
    "tags": []
   },
   "outputs": [],
   "source": [
    "value_min = tf.reduce_min(features_train)\n",
    "value_max = tf.reduce_max(features_train)\n",
    "value_dif = value_max - value_min\n",
    "\n",
    "features_train = (features_train - value_min) / value_dif\n",
    "features_test  = (features_test - value_min) / value_dif\n",
    "\n",
    "features_train = tf.cast(features_train, tf.float32)\n",
    "features_test  = tf.cast(features_test, tf.float32)"
   ]
  },
  {
   "cell_type": "code",
   "execution_count": null,
   "id": "cc3e1d4b-919c-4b6c-a6c9-56d4d854a8aa",
   "metadata": {
    "tags": []
   },
   "outputs": [],
   "source": [
    "labels_train = labels_train.astype(bool)\n",
    "labels_test  = labels_test.astype(bool)\n",
    "\n",
    "features_train_normal = features_train[labels_train]\n",
    "features_test_normal  = features_test[labels_test]\n",
    "\n",
    "features_train_anomalous = features_train[~labels_train]\n",
    "features_test_anomalous  = features_test[~labels_test]"
   ]
  },
  {
   "cell_type": "code",
   "execution_count": null,
   "id": "8826488b-1569-4c04-9f10-b38948e12818",
   "metadata": {
    "tags": []
   },
   "outputs": [],
   "source": [
    "plt.grid()\n",
    "plt.plot(np.arange(140), features_train_normal[0])\n",
    "plt.title('A Normal ECG')\n",
    "plt.show()"
   ]
  },
  {
   "cell_type": "code",
   "execution_count": null,
   "id": "daf60404-6b23-4da5-9b60-ae400723c4ce",
   "metadata": {
    "tags": []
   },
   "outputs": [],
   "source": [
    "plt.grid()\n",
    "plt.plot(np.arange(140), features_train_anomalous[0])\n",
    "plt.title('An Anomalous ECG')\n",
    "plt.show()"
   ]
  },
  {
   "cell_type": "code",
   "execution_count": null,
   "id": "840d4251-f844-4ea9-91fe-7a11a2c77df4",
   "metadata": {
    "tags": []
   },
   "outputs": [],
   "source": [
    "class AnomalyDetector(tf.keras.models.Model):\n",
    "\n",
    "    def __init__(self):\n",
    "\n",
    "        super(AnomalyDetector, self).__init__()\n",
    "\n",
    "        self.encoder = tf.keras.Sequential([\n",
    "            tf.keras.layers.Dense(32, activation = 'relu'),\n",
    "            tf.keras.layers.Dense(16, activation = 'relu'),\n",
    "            tf.keras.layers.Dense(8, activation  = 'relu')\n",
    "        ])\n",
    "\n",
    "        self.decoder = tf.keras.Sequential([\n",
    "            tf.keras.layers.Dense(16, activation  = 'relu'),\n",
    "            tf.keras.layers.Dense(32, activation  = 'relu'),\n",
    "            tf.keras.layers.Dense(140, activation = 'sigmoid'),\n",
    "        ])\n",
    "\n",
    "    def call(self, data):\n",
    "\n",
    "        encoded = self.encoder(data)\n",
    "        decoded = self.decoder(encoded)\n",
    "\n",
    "        return decoded"
   ]
  },
  {
   "cell_type": "code",
   "execution_count": null,
   "id": "e7c094b7-2b35-43c4-8919-822f4f072101",
   "metadata": {
    "tags": []
   },
   "outputs": [],
   "source": [
    "anomalyDetector = AnomalyDetector()\n",
    "anomalyDetector.compile(loss = 'mae', optimizer = 'adam')"
   ]
  },
  {
   "cell_type": "code",
   "execution_count": null,
   "id": "9547dc38-1211-4544-b8ff-bdd9584f0ce8",
   "metadata": {
    "tags": []
   },
   "outputs": [],
   "source": [
    "history = anomalyDetector.fit(\n",
    "    features_train_normal,\n",
    "    features_train_normal,\n",
    "    epochs          = 20,\n",
    "    batch_size      = 512,\n",
    "    validation_data = (features_test, features_test),\n",
    "    shuffle         = True\n",
    ")"
   ]
  },
  {
   "cell_type": "code",
   "execution_count": null,
   "id": "66a27063-074c-4302-a99b-480eeeac4927",
   "metadata": {
    "tags": []
   },
   "outputs": [],
   "source": [
    "plt.plot(history.history['loss'],     label = 'Training Loss')\n",
    "plt.plot(history.history['val_loss'], label = 'Validation Loss')\n",
    "plt.legend()"
   ]
  },
  {
   "cell_type": "code",
   "execution_count": null,
   "id": "f7535d2e-06a1-476f-bf4c-d859ebe16832",
   "metadata": {
    "tags": []
   },
   "outputs": [],
   "source": [
    "encoded_data = anomalyDetector.encoder(features_test_normal).numpy()\n",
    "decoded_data = anomalyDetector.decoder(encoded_data).numpy()\n",
    "\n",
    "plt.plot(features_test_normal[0], 'b')\n",
    "plt.plot(decoded_data[0], 'r')\n",
    "plt.fill_between(np.arange(140), decoded_data[0], features_test_normal[0], color = 'lightcoral')\n",
    "plt.legend(labels = ['Input', 'Reconstruction', 'Error'])\n",
    "plt.show()"
   ]
  },
  {
   "cell_type": "code",
   "execution_count": null,
   "id": "a67efb25-2b4e-4b86-8a04-40fdb5d1a14c",
   "metadata": {
    "tags": []
   },
   "outputs": [],
   "source": [
    "encoded_data = anomalyDetector.encoder(features_test_anomalous).numpy()\n",
    "decoded_data = anomalyDetector.decoder(encoded_data).numpy()\n",
    "\n",
    "plt.plot(features_test_anomalous[0], 'b')\n",
    "plt.plot(decoded_data[0], 'r')\n",
    "plt.fill_between(np.arange(140), decoded_data[0], features_test_anomalous[0], color = 'lightcoral')\n",
    "plt.legend(labels = ['Input', 'Reconstruction', 'Error'])\n",
    "plt.show()"
   ]
  },
  {
   "cell_type": "code",
   "execution_count": null,
   "id": "e439394c-4334-49e1-9942-06f62a5e3668",
   "metadata": {
    "tags": []
   },
   "outputs": [],
   "source": [
    "reconstructions = anomalyDetector.predict(features_train_normal)\n",
    "train_loss = tf.keras.losses.mae(reconstructions, features_train_normal)\n",
    "\n",
    "plt.hist(train_loss[None, :], bins = 50)\n",
    "plt.xlabel('Train loss')\n",
    "plt.ylabel('No of examples')\n",
    "plt.show()"
   ]
  },
  {
   "cell_type": "code",
   "execution_count": null,
   "id": "77d5f946-30b0-46a9-bbaf-15a26f702af2",
   "metadata": {
    "tags": []
   },
   "outputs": [],
   "source": [
    "reconstructions = anomalyDetector.predict(features_test_anomalous)\n",
    "test_loss = tf.keras.losses.mae(reconstructions, features_test_anomalous)\n",
    "\n",
    "plt.hist(test_loss[None, :], bins = 50)\n",
    "plt.xlabel('Test loss')\n",
    "plt.ylabel('No of examples')\n",
    "plt.show()"
   ]
  },
  {
   "cell_type": "code",
   "execution_count": null,
   "id": "6d28a8cc-fcc0-489a-9a93-efb80a42911e",
   "metadata": {
    "tags": []
   },
   "outputs": [],
   "source": [
    "threshold = np.mean(train_loss) + np.std(train_loss)\n",
    "print('Threshold: ', threshold)"
   ]
  },
  {
   "cell_type": "code",
   "execution_count": null,
   "id": "6907334e-dfb1-450b-b41f-ab5f39c0f1ee",
   "metadata": {
    "tags": []
   },
   "outputs": [],
   "source": [
    "def predict(model, data, threshold):\n",
    "\n",
    "    reconstructions = model(data)\n",
    "    loss = tf.keras.losses.mae(reconstructions, data)\n",
    "\n",
    "    return tf.math.less(loss, threshold)"
   ]
  },
  {
   "cell_type": "code",
   "execution_count": null,
   "id": "1e3c678f-5ccc-41a4-b133-eb9a579b20ee",
   "metadata": {
    "tags": []
   },
   "outputs": [],
   "source": [
    "def print_stats(predictions, labels):\n",
    "\n",
    "    print('Accuracy  : {}'.format(accuracy_score(labels, predictions)))\n",
    "    print('Precision : {}'.format(precision_score(labels, predictions)))\n",
    "    print('Recall    : {}'.format(recall_score(labels, predictions)))"
   ]
  },
  {
   "cell_type": "code",
   "execution_count": null,
   "id": "9cdd0ffe-be34-4726-bbad-620c818990fa",
   "metadata": {
    "tags": []
   },
   "outputs": [],
   "source": [
    "predictions = predict(anomalyDetector, features_test, threshold)\n",
    "print_stats(predictions, labels_test)"
   ]
  },
  {
   "cell_type": "code",
   "execution_count": null,
   "id": "9cf272bb-dd10-4632-89d1-f7d91b628527",
   "metadata": {
    "tags": []
   },
   "outputs": [],
   "source": [
    "anomalyDetector.export('model/')"
   ]
  },
  {
   "cell_type": "code",
   "execution_count": null,
   "id": "8323d2f5-dc34-4199-946e-88534b9e1b4d",
   "metadata": {},
   "outputs": [],
   "source": [
    "es_host     = '<elasticsearch_host>'\n",
    "es_username = '<elasticsearch_username>'\n",
    "es_password = '<elasticsearch_password>'\n",
    "es_index    = 'ecg'"
   ]
  },
  {
   "cell_type": "code",
   "execution_count": null,
   "id": "81584fab-a43b-469c-b8b7-d29ff5d27232",
   "metadata": {
    "tags": []
   },
   "outputs": [],
   "source": [
    "es = Elasticsearch(\n",
    "    hosts        = es_host,\n",
    "    basic_auth   = (es_username, es_password),\n",
    "    verify_certs = False\n",
    ")"
   ]
  },
  {
   "cell_type": "code",
   "execution_count": null,
   "id": "f9bbc746-7b43-4996-a818-ce732519f50d",
   "metadata": {
    "tags": []
   },
   "outputs": [],
   "source": [
    "es.info()"
   ]
  },
  {
   "cell_type": "code",
   "execution_count": null,
   "id": "900e55b1-7c16-4480-90d4-bdb90a53e42c",
   "metadata": {
    "tags": []
   },
   "outputs": [],
   "source": [
    "for i in range(100):\n",
    "\n",
    "    anomaly = i % 10 == 0\n",
    "\n",
    "    data = features_test_anomalous if anomaly else features_test_normal\n",
    "    data = data[i].numpy()\n",
    "\n",
    "    document = {\n",
    "        'severity' : '',\n",
    "        'input'    : data\n",
    "    }\n",
    "\n",
    "    es.index(index = es_index, document = document)\n",
    "\n",
    "    time.sleep(1)"
   ]
  }
 ],
 "metadata": {
  "kernelspec": {
   "display_name": "Python 3.9",
   "language": "python",
   "name": "python3"
  },
  "language_info": {
   "codemirror_mode": {
    "name": "ipython",
    "version": 3
   },
   "file_extension": ".py",
   "mimetype": "text/x-python",
   "name": "python",
   "nbconvert_exporter": "python",
   "pygments_lexer": "ipython3",
   "version": "3.9.16"
  }
 },
 "nbformat": 4,
 "nbformat_minor": 5
}
